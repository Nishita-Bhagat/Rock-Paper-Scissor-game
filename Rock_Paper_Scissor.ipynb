{
  "nbformat": 4,
  "nbformat_minor": 0,
  "metadata": {
    "colab": {
      "name": "Rock Paper Scissor.ipynb",
      "provenance": [],
      "collapsed_sections": [],
      "authorship_tag": "ABX9TyO8n1Y9nWTzMve8dh6sOUXB",
      "include_colab_link": true
    },
    "kernelspec": {
      "name": "python3",
      "display_name": "Python 3"
    },
    "language_info": {
      "name": "python"
    }
  },
  "cells": [
    {
      "cell_type": "markdown",
      "metadata": {
        "id": "view-in-github",
        "colab_type": "text"
      },
      "source": [
        "<a href=\"https://colab.research.google.com/github/Nishita-Bhagat/Rock-Paper-Scissor-game/blob/main/Rock_Paper_Scissor.ipynb\" target=\"_parent\"><img src=\"https://colab.research.google.com/assets/colab-badge.svg\" alt=\"Open In Colab\"/></a>"
      ]
    },
    {
      "cell_type": "code",
      "metadata": {
        "id": "XAHRkY1EK6Jl"
      },
      "source": [
        "# Description : Rock, Paper, Scissors Program"
      ],
      "execution_count": null,
      "outputs": []
    },
    {
      "cell_type": "code",
      "metadata": {
        "id": "qeFR9r36LI4e"
      },
      "source": [
        "# Importing the libraries\n",
        "import random"
      ],
      "execution_count": null,
      "outputs": []
    },
    {
      "cell_type": "code",
      "metadata": {
        "id": "MA20-j9zLLoj"
      },
      "source": [
        "choices  = [\"R\", \"P\", \"S\"]"
      ],
      "execution_count": null,
      "outputs": []
    },
    {
      "cell_type": "code",
      "metadata": {
        "id": "rmr10MrqLPvM"
      },
      "source": [
        "def get_choice(input):\n",
        "  if input == \"R\":\n",
        "    return \"Rock\"\n",
        "  elif input == \"P\":\n",
        "    return \"Paper\"\n",
        "  elif input == \"S\":\n",
        "    return \"Scissors\"\n",
        "  else:\n",
        "    return \"Not [R, P, or S]\""
      ],
      "execution_count": null,
      "outputs": []
    },
    {
      "cell_type": "code",
      "metadata": {
        "colab": {
          "base_uri": "https://localhost:8080/"
        },
        "id": "M_rBfK4ZLiZo",
        "outputId": "b53a8ecc-4f18-4c02-93cb-fbc302c1c417"
      },
      "source": [
        "print('Rock, Paper, Scissors - Shoot!')\n",
        "print('[R]=Rock, [P]=Paper, [S]=Scissors and [Q]=Quit')\n",
        "counter = 1\n",
        "\n",
        "while True:\n",
        "\n",
        "  print(\"Game \"+str(counter)+':')\n",
        "  print('Please choose a letter:')\n",
        "  user_choice = input()\n",
        "\n",
        "  if user_choice == 'Q':\n",
        "    print('Thanks for playing !')\n",
        "    break;\n",
        "\n",
        "  random_index = random.randint(0,2)\n",
        "  computer_choice = choices[random_index]\n",
        "\n",
        "  print('You chose '+get_choice(user_choice)+' the computer chose '+get_choice(computer_choice))\n",
        "\n",
        "  if user_choice == \"R\" and computer_choice == \"S\":\n",
        "    print('You win, Rock beats Scissors')\n",
        "  elif user_choice == \"P\" and computer_choice == \"R\":\n",
        "    print('You win, Paper beats Rock')\n",
        "  elif user_choice == \"S\" and computer_choice == \"P\":\n",
        "    print('You win, Scissors beats Paper')\n",
        "\n",
        "\n",
        "  elif user_choice == \"R\" and computer_choice == \"P\":\n",
        "    print('Computer win, Paper beats Rock')\n",
        "  elif user_choice == \"P\" and computer_choice == \"S\":\n",
        "    print('Computer win, Scissors beats Paper')\n",
        "  elif user_choice == \"S\" and computer_choice == \"R\":\n",
        "    print('Computer win, Rock beats Scissors')\n",
        "  elif user_choice == computer_choice:\n",
        "    print('It is a tie !')\n",
        "  else:\n",
        "    print('Please enter [R, P, S or Q]')\n",
        "\n",
        "  counter = counter + 1\n",
        "  print('\\n')\n",
        "\n"
      ],
      "execution_count": null,
      "outputs": [
        {
          "output_type": "stream",
          "text": [
            "Rock, Paper, Scissors - Shoot!\n",
            "[R]=Rock, [P]=Paper, [S]=Scissors and [Q]=Quit\n",
            "Game 1:\n",
            "Please choose a letter:\n",
            "R\n",
            "You chose Rock the computer chose Scissors\n",
            "You win, Rock beats Scissors\n",
            "\n",
            "\n",
            "Game 2:\n",
            "Please choose a letter:\n",
            "P\n",
            "You chose Paper the computer chose Paper\n",
            "It is a tie !\n",
            "\n",
            "\n",
            "Game 3:\n",
            "Please choose a letter:\n",
            "S\n",
            "You chose Scissors the computer chose Rock\n",
            "Computer win, Rock beats Scissors\n",
            "\n",
            "\n",
            "Game 4:\n",
            "Please choose a letter:\n",
            "r\n",
            "You chose Not [R, P, or S] the computer chose Paper\n",
            "Please enter [R, P, S or Q]\n",
            "\n",
            "\n",
            "Game 5:\n",
            "Please choose a letter:\n",
            "R\n",
            "You chose Rock the computer chose Rock\n",
            "It is a tie !\n",
            "\n",
            "\n",
            "Game 6:\n",
            "Please choose a letter:\n",
            "P\n",
            "You chose Paper the computer chose Rock\n",
            "You win, Paper beats Rock\n",
            "\n",
            "\n",
            "Game 7:\n",
            "Please choose a letter:\n",
            "Q\n",
            "Thanks for playing !\n"
          ],
          "name": "stdout"
        }
      ]
    },
    {
      "cell_type": "code",
      "metadata": {
        "id": "EKs-OFG_N77h"
      },
      "source": [
        ""
      ],
      "execution_count": null,
      "outputs": []
    }
  ]
}